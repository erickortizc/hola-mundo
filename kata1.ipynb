{
 "cells": [
  {
   "cell_type": "markdown",
   "metadata": {},
   "source": [
    "## Primer programa\n",
    "Programa que muestra la fecha de hoy."
   ]
  },
  {
   "cell_type": "code",
   "execution_count": 5,
   "metadata": {},
   "outputs": [
    {
     "name": "stdout",
     "output_type": "stream",
     "text": [
      "Today's date is: 2022-02-05\n"
     ]
    }
   ],
   "source": [
    "\n",
    "\n",
    "from datetime import date\n",
    "\n",
    "print(\"Today's date is: \" + str(date.today()))\n",
    "\n"
   ]
  },
  {
   "cell_type": "markdown",
   "metadata": {},
   "source": [
    "## convertidor de unidades\n",
    "un programa de conversión entre parsecs y años luz."
   ]
  },
  {
   "cell_type": "code",
   "execution_count": 7,
   "metadata": {},
   "outputs": [
    {
     "name": "stdout",
     "output_type": "stream",
     "text": [
      "1 parsec, is 3.26156 lightyears\n"
     ]
    }
   ],
   "source": [
    "parsec = 1\n",
    "\n",
    "lightyears = 3.26156\n",
    "\n",
    "conversion= parsec * lightyears\n",
    "\n",
    "print(str(parsec) + \" parsec, is \" + str(conversion) + \" lightyears\")"
   ]
  }
 ],
 "metadata": {
  "interpreter": {
   "hash": "bdda84acc8c05be636b2fc68da22a0e99a4c90266ecee3f0a5f39743359e8999"
  },
  "kernelspec": {
   "display_name": "Python 3.9.10 64-bit",
   "language": "python",
   "name": "python3"
  },
  "language_info": {
   "codemirror_mode": {
    "name": "ipython",
    "version": 3
   },
   "file_extension": ".py",
   "mimetype": "text/x-python",
   "name": "python",
   "nbconvert_exporter": "python",
   "pygments_lexer": "ipython3",
   "version": "3.9.10"
  },
  "orig_nbformat": 4
 },
 "nbformat": 4,
 "nbformat_minor": 2
}
